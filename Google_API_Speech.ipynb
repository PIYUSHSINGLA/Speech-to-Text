{
  "nbformat": 4,
  "nbformat_minor": 0,
  "metadata": {
    "colab": {
      "name": "Google API - Speech.ipynb",
      "provenance": [],
      "collapsed_sections": []
    },
    "kernelspec": {
      "name": "python3",
      "display_name": "Python 3"
    }
  },
  "cells": [
    {
      "cell_type": "markdown",
      "metadata": {
        "id": "vyr4SNgzxDaL",
        "colab_type": "text"
      },
      "source": [
        "# SPEECH ANALYTICS\n",
        "---\n",
        "\n",
        "## GOOGLE SPEECH TO TEXT API "
      ]
    },
    {
      "cell_type": "markdown",
      "metadata": {
        "id": "u041rXBuw21-",
        "colab_type": "text"
      },
      "source": [
        "### ___Programmed Logic___"
      ]
    },
    {
      "cell_type": "code",
      "metadata": {
        "id": "HS8Xysz6qa7g",
        "colab_type": "code",
        "colab": {}
      },
      "source": [
        "import io\n",
        "import os\n",
        "\n",
        "# !pip install pydub # Manipulate audio with a simple and easy high level interface - http://pydub.com/\n",
        "from pydub import AudioSegment\n",
        "\n",
        "# !pip install --upgrade google-cloud-speech\n",
        "from google.cloud import speech_v1p1beta1 as speech\n",
        "from google.cloud.speech_v1p1beta1 import enums\n",
        "from google.cloud.speech_v1p1beta1 import types\n",
        "import wave # to Convert to/open Wave format\n",
        "\n",
        "# Access GCP Storage\n",
        "from google.cloud import storage\n",
        "\n",
        "# to convert file to wav format\n",
        "import subprocess"
      ],
      "execution_count": 0,
      "outputs": []
    },
    {
      "cell_type": "code",
      "metadata": {
        "id": "_nqhEbX2qZ1D",
        "colab_type": "code",
        "colab": {}
      },
      "source": [
        "# uploading the Audio to GCP in bucket created\n",
        "# 1. Permissions to the storage bucket to be given to allUsers and as Owner - Need to study this\n",
        "\n",
        "def upload_audio_to_cloud(bucket_name, source_file_name, destination_file_name):\n",
        "    storage_client = storage.Client()\n",
        "\n",
        "    bucket = storage_client.get_bucket(bucket_name)\n",
        "    blob = bucket.blob(destination_file_name) \n",
        "    blob.upload_from_filename(source_file_name)"
      ],
      "execution_count": 0,
      "outputs": []
    },
    {
      "cell_type": "code",
      "metadata": {
        "id": "yCykYhDptr5C",
        "colab_type": "code",
        "colab": {}
      },
      "source": [
        "# Get info on the frame rate (Hertz Rate e.g 16000 for mp3, 44100 for wav) and channels (if channel is not mon then convert it)\n",
        "\n",
        "def audio_info(audio_file_name):\n",
        "    with wave.open(audio_file_name, \"rb\") as wave_file:\n",
        "        frame_rate = wave_file.getframerate()\n",
        "        channels = wave_file.getnchannels()\n",
        "        return frame_rate,channels"
      ],
      "execution_count": 0,
      "outputs": []
    },
    {
      "cell_type": "code",
      "metadata": {
        "id": "DBe6VoDnuAS-",
        "colab_type": "code",
        "colab": {}
      },
      "source": [
        "# Converting Stereo sound to Mono Channel sound\n",
        "\n",
        "def audio_channel_convert(audio_file_name):\n",
        "    sound = AudioSegment.from_wav(audio_file_name)\n",
        "    sound = sound.set_channels(1)\n",
        "    sound.export(audio_file_name, format=\"wav\")"
      ],
      "execution_count": 0,
      "outputs": []
    },
    {
      "cell_type": "code",
      "metadata": {
        "id": "WUWr_K76Y_Ag",
        "colab_type": "code",
        "colab": {}
      },
      "source": [
        "# Audio file processing - Files it will be able to process is MP3 and WAV\n",
        "\n",
        "def audio_file_processing():\n",
        "\n",
        "    # Converting mp3 to wav\n",
        "    if audio_file_name.split('.')[-1]=='mp3':\n",
        "      subprocess.call(['ffmpeg', '-i', file_name ,filepath + audio_name +'.wav'])\n",
        "      file_name = filepath + audio_name + '.wav'\n",
        "\n",
        "    frame_rate, channels = audio_info(file_name)\n",
        "    \n",
        "    if channels > 1:\n",
        "        audio_channel_convert(file_name)\n"
      ],
      "execution_count": 0,
      "outputs": []
    },
    {
      "cell_type": "code",
      "metadata": {
        "id": "iRuJWivKuDnN",
        "colab_type": "code",
        "colab": {}
      },
      "source": [
        "def google_transcribe():\n",
        "    \n",
        "    # Uploading Data to GCP Storage\n",
        "    upload_audio_to_cloud(bucket_name, file_name, file_name.split('/')[-1])\n",
        "    \n",
        "    gcs_uri = 'gs://'+ bucket_name +'/' + file_name\n",
        "    \n",
        "    client = speech.SpeechClient()\n",
        "    audio = types.RecognitionAudio(uri = gcs_uri)\n",
        "\n",
        "    config = types.RecognitionConfig(encoding=enums.RecognitionConfig.AudioEncoding.LINEAR16, #https://cloud.google.com/speech-to-text/docs/reference/rpc/google.cloud.speech.v1#google.cloud.speech.v1.RecognitionConfig.AudioEncoding\n",
        "                                     sample_rate_hertz=frame_rate,\n",
        "                                     language_code= language, \n",
        "                                     model = model, \n",
        "                                     use_enhanced = enhance,\n",
        "                                     enable_speaker_diarization=enable_speaker_diarization,  # enable this if you want speaker wise results\n",
        "                                     diarization_speaker_count= speaker_count\n",
        "                                     )\n",
        "    \n",
        "    # Detects speech in the audio file\n",
        "    operation = client.long_running_recognize(config, audio)\n",
        "    response = operation.result(timeout=10000)\n",
        "\n",
        "    if(enable_speaker_diarization == True):\n",
        "        result = response.results[-1]\n",
        "        words_info = result.alternatives[0].words\n",
        "        \n",
        "        tag=1\n",
        "        speaker=\"\"\n",
        "\n",
        "        for word_info in words_info:\n",
        "            if word_info.speaker_tag==tag:\n",
        "                speaker=speaker+\" \"+word_info.word\n",
        "            else:\n",
        "                transcript += \"speaker {}: {}\".format(tag,speaker) + '\\n'\n",
        "                tag=word_info.speaker_tag\n",
        "                speaker=\"\"+word_info.word\n",
        "\n",
        "        transcript += \"speaker {}: {}\".format(tag,speaker)\n",
        "\n",
        "    else:\n",
        "        for result in response.results:\n",
        "            transcript += result.alternatives[0].transcript\n",
        "\n",
        "    transcript_filename = audio_name + '.txt'\n",
        "\n",
        "    f= open(filepath + transcript_filename,\"w+\")\n",
        "    f.write(transcript)\n",
        "    f.close()\n"
      ],
      "execution_count": 0,
      "outputs": []
    },
    {
      "cell_type": "markdown",
      "metadata": {
        "id": "RTrCxL-UwuQj",
        "colab_type": "text"
      },
      "source": [
        "### ___Calling Function and Variables___"
      ]
    },
    {
      "cell_type": "code",
      "metadata": {
        "id": "ry4gCSo4pRlr",
        "colab_type": "code",
        "colab": {}
      },
      "source": [
        "from google.colab import files\n",
        "upload = files.upload()"
      ],
      "execution_count": 0,
      "outputs": []
    },
    {
      "cell_type": "code",
      "metadata": {
        "id": "2cIizv_Zyny8",
        "colab_type": "code",
        "colab": {}
      },
      "source": [
        "# Setting up Global Variables\n",
        "\n",
        "os.environ[\"GOOGLE_APPLICATION_CREDENTIALS\"]=\"/content/elevated-glow-273009-a6eed3bf39be.json\"   # setting google gcp application credential\n",
        "\n",
        "filepath = '/content/'\n",
        "audio_file_name = 'Call1.mp3'\n",
        "file_name = filepath + audio_file_name\n",
        "audio_name = audio_file_name.split('.')[0]\n",
        "\n",
        "frame_rate = 0\n",
        "channels = 0\n",
        "\n",
        "bucket_name = 'piyush_singla_02'\n",
        "\n",
        "transcript = ''\n",
        "\n",
        "# https://cloud.google.com/speech-to-text/docs/languages\n",
        "language = 'en-US'\n",
        "\n",
        "# Check config for model selection\n",
        "model = 'phone_call'\n",
        "enhance = True\n",
        "\n",
        "# enable if you want speaker level info\n",
        "enable_speaker_diarization = False \n",
        "speaker_count = 2\n",
        "\n",
        "google_transcribe(audio_file_name)  \n",
        "\n",
        "print('Call has been processed. Output at:' + filepath + transcript_filename)"
      ],
      "execution_count": 0,
      "outputs": []
    }
  ]
}